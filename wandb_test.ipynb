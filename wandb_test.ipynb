{
 "cells": [
  {
   "cell_type": "code",
   "execution_count": 26,
   "metadata": {},
   "outputs": [
    {
     "data": {
      "text/plain": [
       "'\\n@misc{kayid2020nams,\\n  title={Neural additive models Library},\\n  author={Kayid, Amr and Frosst, Nicholas and Hinton, Geoffrey E},\\n  year={2020}\\n}\\n'"
      ]
     },
     "execution_count": 26,
     "metadata": {},
     "output_type": "execute_result"
    }
   ],
   "source": [
    "from functools import partial\n",
    "\n",
    "import torch\n",
    "import torch.nn as nn\n",
    "import torch.nn.functional as F\n",
    "\n",
    "from mynam.models.nam import NAM \n",
    "from mynam.trainer.wandbtrainer import *\n",
    "from mynam.config.default import defaults\n",
    "from mynam.data.toydataset import ToyDataset\n",
    "from mynam.data.gamdataset import GAMDataset\n",
    "from mynam.data.generator import *\n",
    "from mynam.utils.wandb import *\n",
    "from mynam.utils.plotting import *\n",
    "\n",
    "import matplotlib.pyplot as plt \n",
    "import numpy as np\n",
    "\n",
    "import wandb \n",
    "\"\"\"\n",
    "@misc{kayid2020nams,\n",
    "  title={Neural additive models Library},\n",
    "  author={Kayid, Amr and Frosst, Nicholas and Hinton, Geoffrey E},\n",
    "  year={2020}\n",
    "}\n",
    "\"\"\""
   ]
  },
  {
   "cell_type": "code",
   "execution_count": 17,
   "metadata": {},
   "outputs": [
    {
     "name": "stdout",
     "output_type": "stream",
     "text": [
      "torch.Size([5, 4, 6])\n",
      "torch.Size([5, 2, 4, 6])\n",
      "torch.Size([5, 2, 3, 6])\n",
      "torch.Size([5, 2, 3, 6])\n",
      "torch.Size([5, 3, 6])\n"
     ]
    }
   ],
   "source": [
    "from torch import einsum, exp, ge, le\n",
    "sin = torch.randn(2, 3, 4)# (n...i)\n",
    "ew = torch.randn(5, 2, 6)# (vn...o)\n",
    "bias = torch.randn(4,)\n",
    "sum_batch = True\n",
    "equation = f\"vn...o,n...i->v{'' if sum_batch else 'n'}io\"\n",
    "c = einsum(equation, ew, sin-bias) # (vio) 5, 4, 6\n",
    "print(c.shape)\n",
    "sum_batch = False\n",
    "equation = f\"vn...o,n...i->v{'' if sum_batch else 'n'}io\"\n",
    "d = einsum(equation, ew, sin-bias) # (vnio) 5, 2, 4, 6\n",
    "print(d.shape)\n",
    "\n",
    "mat = torch.randn(5, 4, 6)\n",
    "ew = exp(mat) # (vio)\n",
    "exu_out = einsum(\"n...i, vio->vn...o\", sin - bias, ew) # (vn...o)\n",
    "print(exu_out.shape)\n",
    "non_neg = ge(exu_out, 0)\n",
    "le_n = le(exu_out, 1)\n",
    "non_zero_deriv = torch.logical_and(non_neg, le_n)\n",
    "        \n",
    "res = non_zero_deriv * exu_out   \n",
    "print(res.shape)\n",
    "res = res.sum(dim=1).squeeze(dim=1)        \n",
    "print(res.shape)"
   ]
  },
  {
   "cell_type": "code",
   "execution_count": 32,
   "metadata": {},
   "outputs": [
    {
     "name": "stdout",
     "output_type": "stream",
     "text": [
      "torch.Size([5, 1])\n",
      "tensor([[0.],\n",
      "        [0.],\n",
      "        [0.],\n",
      "        [0.],\n",
      "        [0.]])\n",
      "tensor([[0.],\n",
      "        [0.],\n",
      "        [0.],\n",
      "        [0.],\n",
      "        [0.]])\n"
     ]
    }
   ],
   "source": [
    "n, batch_size, in_features, out_features = 1, 5, 4, 1\n",
    "inputs = torch.randn(batch_size, in_features)\n",
    "bias = torch.randn(in_features, )\n",
    "weight = torch.randn(in_features, out_features)\n",
    "output = (inputs - bias).matmul(torch.exp(weight))\n",
    "print(output.shape)\n",
    "output = F.relu(output)\n",
    "print(output)\n",
    "output = torch.clamp(output, 0, n)\n",
    "print(output)"
   ]
  },
  {
   "cell_type": "code",
   "execution_count": 2,
   "metadata": {},
   "outputs": [],
   "source": [
    "%reload_ext autoreload \n",
    "%autoreload 2"
   ]
  },
  {
   "cell_type": "code",
   "execution_count": 3,
   "metadata": {},
   "outputs": [
    {
     "name": "stderr",
     "output_type": "stream",
     "text": [
      "Failed to detect the name of this notebook, you can set it manually with the WANDB_NOTEBOOK_NAME environment variable to enable code saving.\n",
      "\u001b[34m\u001b[1mwandb\u001b[0m: Currently logged in as: \u001b[33mxinyu-zhang\u001b[0m. Use \u001b[1m`wandb login --relogin`\u001b[0m to force relogin\n"
     ]
    }
   ],
   "source": [
    "wandb.login()\n",
    "wandb.finish() # mark runs as finished before starting new runs"
   ]
  },
  {
   "cell_type": "markdown",
   "metadata": {},
   "source": [
    "# Set up synthetic toy dataset "
   ]
  },
  {
   "cell_type": "code",
   "execution_count": 4,
   "metadata": {},
   "outputs": [],
   "source": [
    "fetch_data = True\n",
    "log_data = False"
   ]
  },
  {
   "cell_type": "code",
   "execution_count": 5,
   "metadata": {},
   "outputs": [
    {
     "data": {
      "text/html": [
       "wandb version 0.15.8 is available!  To upgrade, please run:\n",
       " $ pip install wandb --upgrade"
      ],
      "text/plain": [
       "<IPython.core.display.HTML object>"
      ]
     },
     "metadata": {},
     "output_type": "display_data"
    },
    {
     "data": {
      "text/html": [
       "Tracking run with wandb version 0.15.5"
      ],
      "text/plain": [
       "<IPython.core.display.HTML object>"
      ]
     },
     "metadata": {},
     "output_type": "display_data"
    },
    {
     "data": {
      "text/html": [
       "Run data is saved locally in <code>/scratch/work/zhangx18/reproduced-nam/wandb/run-20230811_110214-ulkq4col</code>"
      ],
      "text/plain": [
       "<IPython.core.display.HTML object>"
      ]
     },
     "metadata": {},
     "output_type": "display_data"
    },
    {
     "data": {
      "text/html": [
       "Syncing run <strong><a href='https://wandb.ai/xinyu-zhang/LANAM-grid-basic-synthetic/runs/ulkq4col' target=\"_blank\">floral-snowball-39</a></strong> to <a href='https://wandb.ai/xinyu-zhang/LANAM-grid-basic-synthetic' target=\"_blank\">Weights & Biases</a> (<a href='https://wandb.me/run' target=\"_blank\">docs</a>)<br/>"
      ],
      "text/plain": [
       "<IPython.core.display.HTML object>"
      ]
     },
     "metadata": {},
     "output_type": "display_data"
    },
    {
     "data": {
      "text/html": [
       " View project at <a href='https://wandb.ai/xinyu-zhang/LANAM-grid-basic-synthetic' target=\"_blank\">https://wandb.ai/xinyu-zhang/LANAM-grid-basic-synthetic</a>"
      ],
      "text/plain": [
       "<IPython.core.display.HTML object>"
      ]
     },
     "metadata": {},
     "output_type": "display_data"
    },
    {
     "data": {
      "text/html": [
       " View run at <a href='https://wandb.ai/xinyu-zhang/LANAM-grid-basic-synthetic/runs/ulkq4col' target=\"_blank\">https://wandb.ai/xinyu-zhang/LANAM-grid-basic-synthetic/runs/ulkq4col</a>"
      ],
      "text/plain": [
       "<IPython.core.display.HTML object>"
      ]
     },
     "metadata": {},
     "output_type": "display_data"
    },
    {
     "name": "stderr",
     "output_type": "stream",
     "text": [
      "\u001b[34m\u001b[1mwandb\u001b[0m:   3 of 3 files downloaded.  \n"
     ]
    },
    {
     "data": {
      "text/html": [
       "Waiting for W&B process to finish... <strong style=\"color:green\">(success).</strong>"
      ],
      "text/plain": [
       "<IPython.core.display.HTML object>"
      ]
     },
     "metadata": {},
     "output_type": "display_data"
    },
    {
     "data": {
      "application/vnd.jupyter.widget-view+json": {
       "model_id": "d0c38ffdeedb4e4694079f85d03806e6",
       "version_major": 2,
       "version_minor": 0
      },
      "text/plain": [
       "VBox(children=(Label(value='0.003 MB of 0.003 MB uploaded (0.000 MB deduped)\\r'), FloatProgress(value=1.0, max…"
      ]
     },
     "metadata": {},
     "output_type": "display_data"
    },
    {
     "data": {
      "text/html": [
       " View run <strong style=\"color:#cdcd00\">floral-snowball-39</strong> at: <a href='https://wandb.ai/xinyu-zhang/LANAM-grid-basic-synthetic/runs/ulkq4col' target=\"_blank\">https://wandb.ai/xinyu-zhang/LANAM-grid-basic-synthetic/runs/ulkq4col</a><br/>Synced 6 W&B file(s), 0 media file(s), 0 artifact file(s) and 0 other file(s)"
      ],
      "text/plain": [
       "<IPython.core.display.HTML object>"
      ]
     },
     "metadata": {},
     "output_type": "display_data"
    },
    {
     "data": {
      "text/html": [
       "Find logs at: <code>./wandb/run-20230811_110214-ulkq4col/logs</code>"
      ],
      "text/plain": [
       "<IPython.core.display.HTML object>"
      ]
     },
     "metadata": {},
     "output_type": "display_data"
    },
    {
     "data": {
      "image/png": "[encoded data removed]",
      "text/plain": [
       "<Figure size 800x200 with 4 Axes>"
      ]
     },
     "metadata": {},
     "output_type": "display_data"
    },
    {
     "data": {
      "image/png": "[encoded data removed]",
      "text/plain": [
       "<Figure size 640x480 with 1 Axes>"
      ]
     },
     "metadata": {},
     "output_type": "display_data"
    }
   ],
   "source": [
    "cfg = defaults()\n",
    "if fetch_data:\n",
    "    # fetch data and construct dataset from W&B\n",
    "    processed_datasets = preprocess_and_log(project_name='LANAM-grid-basic-synthetic', job_type='dataset', artifact_or_name='synthetic-4:v0')\n",
    "    trainset = processed_datasets['training']\n",
    "    valset = processed_datasets['validation']\n",
    "    testset = processed_datasets['test']\n",
    "else:\n",
    "    # construct dataset from scratch\n",
    "    gen_funcs, gen_func_names = task()\n",
    "    in_features = len(gen_funcs)\n",
    "    sigma = cfg.prior_sigma_noise\n",
    "    print(sigma)\n",
    "    trainset = ToyDataset(gen_funcs, gen_func_names, num_samples=1000, sigma=sigma)\n",
    "    valset = ToyDataset(gen_funcs, gen_func_names, num_samples=200, sigma=sigma)\n",
    "    testset = ToyDataset(gen_funcs, gen_func_names, num_samples=50, use_test=True)\n",
    "    if log_data:\n",
    "        datasets= [trainset, valset, testset]\n",
    "        load_and_log(datasets, \n",
    "                     project_name='NAM-grid-basic-synthetic', \n",
    "                     job_type='synthetic_data', \n",
    "                     artifact_name='synthetic-4.1', \n",
    "                     description='synthetic samples with 4 input features, split into train/val/test', \n",
    "                    )\n",
    "    \n",
    "trainset.plot()\n",
    "train_loader, train_loader_fnn = trainset.loader, trainset.loader_fnn\n",
    "val_loader, val_loader_fnn = valset.loader, valset.loader_fnn\n",
    "X_test, y_test = testset.X, testset.y"
   ]
  },
  {
   "cell_type": "markdown",
   "metadata": {},
   "source": [
    "# W&B"
   ]
  },
  {
   "cell_type": "code",
   "execution_count": 6,
   "metadata": {},
   "outputs": [
    {
     "name": "stdout",
     "output_type": "stream",
     "text": [
      "Create sweep with ID: z5pkelga\n",
      "Sweep URL: https://wandb.ai/xinyu-zhang/NAM-grid-basic-synthetic/sweeps/z5pkelga\n",
      "sweep id: z5pkelga\n"
     ]
    }
   ],
   "source": [
    "# note that non-iterative type is invalid for wandb parameters_list\n",
    "# note that log_uniform will add base exponents;\n",
    "# while log_uniform_values expects specified values. \n",
    "\"\"\"\n",
    "parameters_list = {\n",
    "    'lr': {\n",
    "        'distribution': 'log_uniform_values',\n",
    "        'min': 1e-2, \n",
    "        'max': 1e-3, \n",
    "    }, \n",
    "    'output_regularization': {\n",
    "        'distribution': 'log_uniform_values',\n",
    "        'min': 1e-3, \n",
    "        'max': 1e-1, \n",
    "    }, \n",
    "    'l2_regularization': {\n",
    "        'distribution': 'log_uniform_values',\n",
    "        'min': 1e-6, \n",
    "        'max': 1e-4, \n",
    "    }, \n",
    "    'dropout':  {\n",
    "        'values': [0, 0.05, 0.1, 0.2, 0.3, 0.4, 0.5, 0.6, 0.7, 0.8, 0.9]\n",
    "    }, \n",
    "    'feature_dropout': {\n",
    "        'values': [0, 0.05, 0.1, 0.2]\n",
    "    }, \n",
    "    'activation':  {\n",
    "        'values': ['gelu', 'relu', 'leakyrelu', 'elu', 'exu']\n",
    "    }, \n",
    "    \n",
    "}\"\"\"\n",
    "parameters_list = {\n",
    "    'lr': {\n",
    "        'values': [0.01, 0.001]\n",
    "    }, \n",
    "    'output_regularization': {\n",
    "        'values': [0.1, 0.01]\n",
    "    }, \n",
    "    'dropout':  {\n",
    "        'values': [0, 0.05, 0.2]\n",
    "    }, \n",
    "    'feature_dropout': {\n",
    "        'values': [0, 0.05]\n",
    "    }, \n",
    "    'activation':  {\n",
    "        'values': ['gelu', 'relu', 'leakyrelu', 'elu', 'exu']\n",
    "    }, \n",
    "    'num_basis_functions': {\n",
    "        'values': [64, 1024]\n",
    "    }\n",
    "    \n",
    "}\n",
    "sweep_configuration = {\n",
    "    'method': 'grid', \n",
    "    'name': 'sweep',\n",
    "    'metric': {\n",
    "        'goal': 'minimize', \n",
    "        'name': 'val_MAE', \n",
    "    }, \n",
    "    'parameters': parameters_list\n",
    "}\n",
    "# initialize the sweep \n",
    "sweep_id = wandb.sweep(\n",
    "    sweep=sweep_configuration, \n",
    "    project='NAM-grid-basic-synthetic'\n",
    ")\n",
    "\n",
    "print(f\"sweep id: {sweep_id}\")"
   ]
  },
  {
   "cell_type": "code",
   "execution_count": null,
   "metadata": {},
   "outputs": [],
   "source": [
    "wandb.agent(sweep_id, \n",
    "            function=partial(wandb_train, \n",
    "                             config=cfg, \n",
    "                             dataloader_train=train_loader, \n",
    "                             dataloader_val=val_loader, \n",
    "                             testset=testset))"
   ]
  },
  {
   "cell_type": "code",
   "execution_count": null,
   "metadata": {},
   "outputs": [],
   "source": []
  }
 ],
 "metadata": {
  "kernelspec": {
   "display_name": "Python (module anaconda)",
   "language": "python",
   "name": "python3"
  },
  "language_info": {
   "codemirror_mode": {
    "name": "ipython",
    "version": 3
   },
   "file_extension": ".py",
   "mimetype": "text/x-python",
   "name": "python",
   "nbconvert_exporter": "python",
   "pygments_lexer": "ipython3",
   "version": "3.10.8"
  }
 },
 "nbformat": 4,
 "nbformat_minor": 4
}
