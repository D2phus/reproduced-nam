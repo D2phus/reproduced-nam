{
 "cells": [
  {
   "cell_type": "code",
   "execution_count": null,
   "metadata": {},
   "outputs": [],
   "source": [
    "from functools import partial\n",
    "\n",
    "import torch\n",
    "import torch.nn as nn\n",
    "import torch.nn.functional as F\n",
    "\n",
    "import wandb\n",
    "\n",
    "\n",
    "from mynam.data.toydataset import ToyDataset\n",
    "from mynam.data.generator import *\n",
    "\n",
    "from mynam.trainer.wandbtrainer import *"
   ]
  },
  {
   "cell_type": "code",
   "execution_count": null,
   "metadata": {},
   "outputs": [],
   "source": [
    "from nam.config import defaults\n",
    "from nam.models import NAM, get_num_units"
   ]
  },
  {
   "cell_type": "code",
   "execution_count": null,
   "metadata": {},
   "outputs": [],
   "source": [
    "%reload_ext autoreload \n",
    "%autoreload 2"
   ]
  },
  {
   "cell_type": "code",
   "execution_count": null,
   "metadata": {},
   "outputs": [],
   "source": [
    "cfg = defaults()\n",
    "cfg.experiment_name='nam-api-sparse-features'\n",
    "\n",
    "cfg.log_loss_frequency = 10\n",
    "cfg.batch_size=64\n",
    "cfg.num_epochs=100\n",
    "cfg.hidden_sizes=[]\n",
    "cfg.num_basis_functions=1024\n",
    "cfg.regression=True\n",
    "print(cfg)"
   ]
  },
  {
   "cell_type": "code",
   "execution_count": null,
   "metadata": {},
   "outputs": [],
   "source": [
    "gen_funcs, gen_func_names = task()\n",
    "sigma = 1.0\n",
    "trainset = ToyDataset(gen_funcs,\n",
    "                    gen_func_names, \n",
    "                      num_samples=1000, \n",
    "                     sigma=1.0)\n",
    "valset = ToyDataset(gen_funcs, \n",
    "                    gen_func_names, \n",
    "                     num_samples=200)\n",
    "testset = ToyDataset(gen_funcs, \n",
    "                    gen_func_names, \n",
    "                     num_samples=200,\n",
    "                    use_test=True)\n",
    "in_features = trainset.in_features\n",
    "trainset.plot()"
   ]
  },
  {
   "cell_type": "code",
   "execution_count": null,
   "metadata": {},
   "outputs": [],
   "source": [
    "nam = NAM(\n",
    "  config=cfg,\n",
    "  name=\"NAM\",\n",
    "  num_inputs=len(trainset[0][0]),\n",
    "  num_units=get_num_units(cfg, trainset.X))"
   ]
  },
  {
   "cell_type": "code",
   "execution_count": null,
   "metadata": {},
   "outputs": [],
   "source": [
    "nam"
   ]
  },
  {
   "cell_type": "code",
   "execution_count": null,
   "metadata": {},
   "outputs": [],
   "source": [
    "wandb.login()\n",
    "wandb.finish() # mark runs as finished before starting new runs"
   ]
  },
  {
   "cell_type": "code",
   "execution_count": null,
   "metadata": {},
   "outputs": [],
   "source": [
    "# note that non-iterative type is invalid for wandb parameters_list\n",
    "# note that log_uniform will add base exponents;\n",
    "# while log_uniform_values expects specified values. \n",
    "parameters_list = {\n",
    "    'lr': {\n",
    "        'distribution': 'log_uniform_values',\n",
    "        'min': 1e-3, \n",
    "        'max': 1e-1, \n",
    "    }, \n",
    "    'output_regularization': {\n",
    "        'distribution': 'log_uniform_values',\n",
    "        'min': 1e-3, \n",
    "        'max': 1e-1, \n",
    "    }, \n",
    "    'l2_regularization': {\n",
    "        'distribution': 'log_uniform_values',\n",
    "        'min': 1e-6, \n",
    "        'max': 1e-4, \n",
    "    }, \n",
    "    'dropout':  {\n",
    "        'values': [0, 0.05, 0.1, 0.2, 0.3, 0.4, 0.5, 0.6, 0.7, 0.8, 0.9]\n",
    "    }, \n",
    "    'feature_dropout': {\n",
    "        'values': [0, 0.05, 0.1, 0.2]\n",
    "    }, \n",
    "    'decay_rate':  {\n",
    "        'values': [0, 0.005]\n",
    "    }, \n",
    "    'activation':  {\n",
    "        'values': ['relu', 'exu']\n",
    "    }, \n",
    "    \n",
    "}\n",
    "sweep_configuration = {\n",
    "    'method': 'bayes', \n",
    "    'name': 'sweep',\n",
    "    'metric': {\n",
    "        'goal': 'minimize', \n",
    "        'name': 'val_MAE', \n",
    "    }, \n",
    "    'early_terminate': {\n",
    "      'type': 'hyperband', \n",
    "        'min_iter': 3,\n",
    "    },\n",
    "    'parameters': parameters_list\n",
    "}\n",
    "# initialize the sweep \n",
    "sweep_id = wandb.sweep(\n",
    "    sweep=sweep_configuration, \n",
    "    project=cfg.experiment_name,\n",
    ")\n",
    "\n",
    "print(f\"sweep id: {sweep_id}\")"
   ]
  },
  {
   "cell_type": "code",
   "execution_count": null,
   "metadata": {},
   "outputs": [],
   "source": [
    "wandb.agent(sweep_id, \n",
    "            function=partial(sweep_train, \n",
    "                             config=cfg, \n",
    "                             dataloader_train=trainset.loader, \n",
    "                             dataloader_val=valset.loader, \n",
    "                             testset=testset),\n",
    "            count=50) # specify the maximum number of runs"
   ]
  },
  {
   "cell_type": "code",
   "execution_count": null,
   "metadata": {},
   "outputs": [],
   "source": [
    "nam_lt, nam_mt, nam_lv, nam_mv = nam_trainer.train()"
   ]
  },
  {
   "cell_type": "code",
   "execution_count": null,
   "metadata": {},
   "outputs": [],
   "source": [
    "mnam_lt, mnam_mt, mnam_lv, mnam_mv = mynam_trainer.train()"
   ]
  },
  {
   "cell_type": "code",
   "execution_count": null,
   "metadata": {},
   "outputs": [],
   "source": []
  }
 ],
 "metadata": {
  "kernelspec": {
   "display_name": "Python (module anaconda)",
   "language": "python",
   "name": "python3"
  },
  "language_info": {
   "codemirror_mode": {
    "name": "ipython",
    "version": 3
   },
   "file_extension": ".py",
   "mimetype": "text/x-python",
   "name": "python",
   "nbconvert_exporter": "python",
   "pygments_lexer": "ipython3",
   "version": "3.10.8"
  }
 },
 "nbformat": 4,
 "nbformat_minor": 4
}
